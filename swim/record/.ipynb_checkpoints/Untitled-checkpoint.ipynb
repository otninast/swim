{
 "cells": [
  {
   "cell_type": "code",
   "execution_count": 1,
   "metadata": {},
   "outputs": [],
   "source": [
    "import pandas as pd\n",
    "import sqlite3"
   ]
  },
  {
   "cell_type": "code",
   "execution_count": 3,
   "metadata": {},
   "outputs": [
    {
     "name": "stderr",
     "output_type": "stream",
     "text": [
      "/Users/tomoya/anaconda3/envs/swimrecord/lib/python3.6/site-packages/IPython/core/interactiveshell.py:2728: DtypeWarning: Columns (8,16) have mixed types. Specify dtype option on import or set low_memory=False.\n",
      "  interactivity=interactivity, compiler=compiler, result=result)\n"
     ]
    }
   ],
   "source": [
    "df = pd.read_csv('Result_all.csv')"
   ]
  },
  {
   "cell_type": "code",
   "execution_count": 15,
   "metadata": {},
   "outputs": [],
   "source": [
    "#base_time = pd.to_datetime('00:00.00', format='%M:%S.%f')\n",
    "#df['Time'] = pd.to_datetime(df['Time'], format='%M:%S.%f') - base_time"
   ]
  },
  {
   "cell_type": "code",
   "execution_count": 17,
   "metadata": {},
   "outputs": [
    {
     "data": {
      "text/plain": [
       "'<table border=\"1\" class=\"dataframe\">\\n  <thead>\\n    <tr style=\"text-align: right;\">\\n      <th></th>\\n      <th>Age</th>\\n      <th>Competition</th>\\n      <th>Course</th>\\n      <th>Distance</th>\\n      <th>Game</th>\\n      <th>Group</th>\\n      <th>Name</th>\\n      <th>Pool</th>\\n      <th>Rank</th>\\n      <th>Sex</th>\\n      <th>Style</th>\\n      <th>Team</th>\\n      <th>Time</th>\\n      <th>Time_sec</th>\\n      <th>Year</th>\\n      <th>xxx</th>\\n      <th>xxxx</th>\\n      <th>kyu</th>\\n    </tr>\\n  </thead>\\n  <tbody>\\n    <tr>\\n      <th>0</th>\\n      <td>3</td>\\n      <td>16高</td>\\n      <td>5</td>\\n      <td>100</td>\\n      <td>Pre</td>\\n      <td>13</td>\\n      <td>上野剛道</td>\\n      <td>Short</td>\\n      <td>1</td>\\n      <td>m</td>\\n      <td>fr</td>\\n      <td>青山学院</td>\\n      <td>56.09</td>\\n      <td>56.09</td>\\n      <td>2008</td>\\n      <td>R</td>\\n      <td>NaN</td>\\n      <td>20</td>\\n    </tr>\\n    <tr>\\n      <th>1</th>\\n      <td>1</td>\\n      <td>16高</td>\\n      <td>3</td>\\n      <td>100</td>\\n      <td>Pre</td>\\n      <td>12</td>\\n      <td>久保田和斗</td>\\n      <td>Short</td>\\n      <td>2</td>\\n      <td>m</td>\\n      <td>fr</td>\\n      <td>筑波大附</td>\\n      <td>56.31</td>\\n      <td>56.31</td>\\n      <td>2008</td>\\n      <td>R</td>\\n      <td>NaN</td>\\n      <td>20</td>\\n    </tr>\\n    <tr>\\n      <th>2</th>\\n      <td>3</td>\\n      <td>16高</td>\\n      <td>6</td>\\n      <td>100</td>\\n      <td>Pre</td>\\n      <td>13</td>\\n      <td>江村鷹一朗</td>\\n      <td>Short</td>\\n      <td>3</td>\\n      <td>m</td>\\n      <td>fr</td>\\n      <td>青山</td>\\n      <td>56.45</td>\\n      <td>56.45</td>\\n      <td>2008</td>\\n      <td>R</td>\\n      <td>NaN</td>\\n      <td>20</td>\\n    </tr>\\n    <tr>\\n      <th>3</th>\\n      <td>3</td>\\n      <td>16高</td>\\n      <td>4</td>\\n      <td>100</td>\\n      <td>Pre</td>\\n      <td>13</td>\\n      <td>宮田大朗</td>\\n      <td>Short</td>\\n      <td>4</td>\\n      <td>m</td>\\n      <td>fr</td>\\n      <td>駒場</td>\\n      <td>56.61</td>\\n      <td>56.61</td>\\n      <td>2008</td>\\n      <td>R</td>\\n      <td>NaN</td>\\n      <td>20</td>\\n    </tr>\\n    <tr>\\n      <th>4</th>\\n      <td>3</td>\\n      <td>16高</td>\\n      <td>1</td>\\n      <td>100</td>\\n      <td>Pre</td>\\n      <td>13</td>\\n      <td>井上祐哉</td>\\n      <td>Short</td>\\n      <td>5</td>\\n      <td>m</td>\\n      <td>fr</td>\\n      <td>小金井北</td>\\n      <td>56.85</td>\\n      <td>56.85</td>\\n      <td>2008</td>\\n      <td>R</td>\\n      <td>NaN</td>\\n      <td>20</td>\\n    </tr>\\n  </tbody>\\n</table>'"
      ]
     },
     "execution_count": 17,
     "metadata": {},
     "output_type": "execute_result"
    }
   ],
   "source": []
  },
  {
   "cell_type": "code",
   "execution_count": null,
   "metadata": {},
   "outputs": [],
   "source": []
  }
 ],
 "metadata": {
  "kernelspec": {
   "display_name": "Python 3",
   "language": "python",
   "name": "python3"
  },
  "language_info": {
   "codemirror_mode": {
    "name": "ipython",
    "version": 3
   },
   "file_extension": ".py",
   "mimetype": "text/x-python",
   "name": "python",
   "nbconvert_exporter": "python",
   "pygments_lexer": "ipython3",
   "version": "3.6.4"
  }
 },
 "nbformat": 4,
 "nbformat_minor": 2
}
